{
 "cells": [
  {
   "cell_type": "markdown",
   "metadata": {},
   "source": [
    "# Football Project 2\n",
    "\n",
    "This porject will take different data set to compute the probability of the football prediction. Previously we used past matches data and not player data.\n",
    "\n",
    "This point we would like the improve the prediction of accuracy from (40% - 50%) to (60% - 70%) accuracy.\n",
    "\n",
    "The data input plan:\n",
    "- getting player stats from the Fifa 21 ( web scraping )\n",
    "- using news roster to combined the player stats ( web scraping )\n",
    "\n"
   ]
  },
  {
   "cell_type": "markdown",
   "metadata": {},
   "source": [
    "# Inputting Player Data"
   ]
  },
  {
   "cell_type": "code",
   "execution_count": 1,
   "metadata": {},
   "outputs": [],
   "source": [
    "import pandas as pd"
   ]
  },
  {
   "cell_type": "code",
   "execution_count": 2,
   "metadata": {},
   "outputs": [],
   "source": [
    "df = pd.read_csv(r\"C:\\Users\\nghen\\OneDrive\\Desktop\\Football project 2\\players_21.csv\")\n",
    "pd.options.display.max_columns = None\n"
   ]
  },
  {
   "cell_type": "markdown",
   "metadata": {},
   "source": [
    "# Cleaning player dataframe "
   ]
  },
  {
   "cell_type": "code",
   "execution_count": 3,
   "metadata": {},
   "outputs": [],
   "source": [
    "del df['player_url']\n",
    "del df['age']\n",
    "del df['dob']\n",
    "del df['height_cm']\n",
    "del df['weight_kg']\n",
    "del df['league_rank']\n",
    "del df['value_eur']\n",
    "del df['wage_eur']\n",
    "del df['player_positions']\n",
    "del df['international_reputation']\n",
    "del df['weak_foot']\n",
    "del df['skill_moves']\n",
    "del df['work_rate']\n",
    "del df['body_type']\n",
    "del df['real_face']\n",
    "del df['release_clause_eur']\n",
    "del df['player_tags']\n",
    "del df['loaned_from']\n",
    "del df['joined']\n",
    "del df['contract_valid_until']\n",
    "del df['nation_position']\n",
    "del df['nation_jersey_number']\n",
    "del df['player_traits']"
   ]
  },
  {
   "cell_type": "code",
   "execution_count": 4,
   "metadata": {
    "scrolled": true
   },
   "outputs": [],
   "source": [
    "df = df.fillna(0)"
   ]
  },
  {
   "cell_type": "markdown",
   "metadata": {},
   "source": [
    "## Football Odd data"
   ]
  },
  {
   "cell_type": "code",
   "execution_count": 5,
   "metadata": {},
   "outputs": [],
   "source": [
    "data_odd = pd.read_csv(r\"C:\\Users\\nghen\\OneDrive\\Desktop\\E0.csv\")"
   ]
  },
  {
   "cell_type": "code",
   "execution_count": 6,
   "metadata": {},
   "outputs": [],
   "source": [
    "football_team = []\n",
    "for i in data_odd['HomeTeam']:\n",
    "    if i in football_team:\n",
    "        continue\n",
    "    else:\n",
    "        football_team.append(i)\n"
   ]
  },
  {
   "cell_type": "code",
   "execution_count": 7,
   "metadata": {},
   "outputs": [],
   "source": [
    "football_team_code = [133600, 133632, 133602, 133636, 133611, 133616, 133619, 133811,133615, 133635, 133612, 133604, 134778, 134777, 133610, 133626, 133601, 133599, 133623, 133613 ]"
   ]
  },
  {
   "cell_type": "code",
   "execution_count": 8,
   "metadata": {},
   "outputs": [],
   "source": [
    "football_team_tuple = tuple(zip(football_team, football_team_code))"
   ]
  },
  {
   "cell_type": "code",
   "execution_count": 9,
   "metadata": {},
   "outputs": [],
   "source": [
    "home_team_code_list = []\n",
    "for i in data_odd['HomeTeam']:\n",
    "\n",
    "    for x in football_team_tuple:\n",
    "        if i in x:\n",
    "            home_team_code_list.append(x[1])\n",
    "            \n",
    "away_team_code_list = []\n",
    "for i in data_odd['AwayTeam']:\n",
    "    for x in football_team_tuple:\n",
    "        if i in x:\n",
    "            away_team_code_list.append(x[1])         "
   ]
  },
  {
   "cell_type": "code",
   "execution_count": 10,
   "metadata": {},
   "outputs": [],
   "source": [
    "data_odd['HomeCode'] = home_team_code_list\n",
    "data_odd['AwayCode'] = away_team_code_list\n",
    "data_odd = data_odd.drop(columns = data_odd.iloc[:,0:24])\n"
   ]
  },
  {
   "cell_type": "markdown",
   "metadata": {},
   "source": [
    "## Scraping website data (2020/2021)\n"
   ]
  },
  {
   "cell_type": "code",
   "execution_count": 11,
   "metadata": {},
   "outputs": [],
   "source": [
    "from bs4 import BeautifulSoup as bs\n",
    "import time \n",
    "import requests\n",
    "import random "
   ]
  },
  {
   "cell_type": "code",
   "execution_count": 12,
   "metadata": {
    "scrolled": true
   },
   "outputs": [],
   "source": [
    "from urllib.request import urlopen, Request\n",
    "\n",
    "url = 'https://www.thesportsdb.com/season.php?l=4328&s=2020-2021'\n",
    "req = requests.get(url)\n",
    "soup =bs(req.text, 'html.parser')"
   ]
  },
  {
   "cell_type": "code",
   "execution_count": 13,
   "metadata": {
    "scrolled": true
   },
   "outputs": [],
   "source": [
    "link_list = []\n",
    "for link in soup.find_all('a'):\n",
    "    link_list.append(link.get('href'))\n"
   ]
  },
  {
   "cell_type": "code",
   "execution_count": 14,
   "metadata": {},
   "outputs": [],
   "source": [
    "match_id = []\n",
    "\n",
    "for i in link_list:\n",
    "    if i.startswith('../event/'):\n",
    "        x = i[9:]\n",
    "        if x not in match_id:\n",
    "            match_id.append(i[9:])\n",
    "        \n",
    "       "
   ]
  },
  {
   "cell_type": "code",
   "execution_count": 15,
   "metadata": {},
   "outputs": [],
   "source": [
    "def homeg(home, roles):\n",
    "    team_info_home = []\n",
    "    for i in home:\n",
    "        x_finding = i.findAll(text=True)\n",
    "        for list_ in x_finding:\n",
    "            if list_ == roles:\n",
    "                list_.clear()\n",
    "            else:\n",
    "                name = ''.join(list_)\n",
    "                team_info_home.append(name)\n",
    "\n",
    "    home_team = []\n",
    "    for i in team_info_home:\n",
    "        x = i.strip()\n",
    "        home_team.append(x)\n",
    "\n",
    "    home_team = list(filter(None,home_team))\n",
    "\n",
    "    empty =[]\n",
    "    special_bin = []\n",
    "    home_team_player =[]\n",
    "    for i in home_team:\n",
    "        if i not in roles:\n",
    "            empty.append(i)\n",
    "            if i.isdigit() == True:\n",
    "                empty.clear()\n",
    "        else:\n",
    "            home_team_player.append(' '.join(empty))\n",
    "            empty.clear()\n",
    "    return home_team_player"
   ]
  },
  {
   "cell_type": "code",
   "execution_count": 16,
   "metadata": {},
   "outputs": [],
   "source": [
    "# team name \n",
    "def code(soup_player):\n",
    "    binn = soup_player.find(class_='col-sm-3')\n",
    "    bin_x = binn.findAll('a')\n",
    "    bin_y = []\n",
    "    for i in bin_x:\n",
    "        make_string = str(i)\n",
    "        bin_y.append(make_string)\n",
    "\n",
    "    keyword = 'team'\n",
    "    team_code = []\n",
    "\n",
    "    for i in bin_y:\n",
    "        if keyword in i:\n",
    "            team_code.append(i)\n",
    "\n",
    "    Teams_code = []\n",
    "    empty_code = []\n",
    "\n",
    "    for i in team_code:\n",
    "        empty_code.clear()\n",
    "        for char in i:\n",
    "            if char.isdigit():\n",
    "                empty_code.append(char)\n",
    "        Teams_code.append(''.join(empty_code))       \n",
    "\n",
    "    return Teams_code"
   ]
  },
  {
   "cell_type": "code",
   "execution_count": 17,
   "metadata": {},
   "outputs": [],
   "source": [
    "# the score board\n",
    "def scores(soup_score):\n",
    "    soup_score.findAll(\"td\")\n",
    "    score_list = []\n",
    "    for i in soup_score.find_all('h2'):\n",
    "        score_list.append(i)\n",
    "\n",
    "    str_list = []\n",
    "    for i in score_list:\n",
    "        str_list.append(str(i))\n",
    "    \n",
    "    del str_list[0]   \n",
    "\n",
    "    score = []\n",
    "    for i in str_list:\n",
    "        x = int(float(i[4]))\n",
    "        score.append(x)\n",
    "    return score"
   ]
  },
  {
   "cell_type": "code",
   "execution_count": 18,
   "metadata": {
    "scrolled": true
   },
   "outputs": [],
   "source": [
    "url_root = 'https://www.thesportsdb.com/event/'\n",
    "\n",
    "full_home_team = []\n",
    "full_away_team = []\n",
    "score_board = []\n",
    "for i in match_id:\n",
    "    url_player = url_root + i\n",
    "    req_player = requests.get(url_player)\n",
    "    soup_player = bs(req_player.text, 'html.parser')\n",
    "    rrrub = soup_player.find(class_='col-sm-9')\n",
    "    rub = rrrub.findAll('table')\n",
    "    \n",
    "    try:\n",
    "        home = rub[3].findAll('td')\n",
    "        away = rub[4].findAll('td')\n",
    "        roles = ['Defender', 'Midfielder', 'Defensive Midfielder', 'Left Back', 'Right Back', 'Goalkeeper',\n",
    "                 'Forward', 'Right Wing', 'Left Wing', 'Centre Back', 'Centre Midfielder', 'Attacking Midfielder', 'Winger']\n",
    "        \n",
    "        home_team_player = homeg(home, roles) # generate list of home players name\n",
    "        away_team_player = homeg(away, roles) # generate list of away players name\n",
    "        Teams_code = code(soup_player) # generating list of homw and away team code \n",
    "        \n",
    "        home_team_player.insert(0, Teams_code[0])\n",
    "        away_team_player.insert(0, Teams_code[1])\n",
    "        \n",
    "        full_home_team.append(home_team_player)\n",
    "        full_away_team.append(away_team_player)\n",
    "        \n",
    "        \n",
    "    except:\n",
    "        Teams_code_no_player = code(soup_player) # creating team code \n",
    "        home_team_player = []\n",
    "        away_team_player = []\n",
    "        \n",
    "        home_team_player.insert(0, Teams_code_no_player[0])\n",
    "        away_team_player.insert(0, Teams_code_no_player[1])\n",
    "        \n",
    "        full_home_team.append(home_team_player)\n",
    "        full_away_team.append(away_team_player)\n",
    "        \n",
    "        \n",
    "        #print(Teams_code)\n",
    "    \n",
    "for i in match_id:\n",
    "    try:\n",
    "        url_score = url_root + i\n",
    "        req_score = requests.get(url_score)\n",
    "        soup_score = bs(req_score.text, 'html.parser')\n",
    "\n",
    "        score = scores(soup_score)\n",
    "        \n",
    "        score_board.append(score)\n",
    "    \n",
    "    except:\n",
    "        \n",
    "        score_board.append([0, 0])\n",
    "  \n"
   ]
  },
  {
   "cell_type": "code",
   "execution_count": 19,
   "metadata": {},
   "outputs": [],
   "source": [
    "df2 = pd.DataFrame(full_home_team, columns = ['Home','Hp1','Hp2','Hp3','Hp4','Hp5','Hp6','Hp7','Hp8','Hp9','Hp10','Hp11','Hp12'])\n",
    "df2\n",
    "df3 = pd.DataFrame(full_away_team, columns = ['Away','Ap1','Ap2','Ap3','Ap4','Ap5','Ap6','Ap7','Ap8','Ap9','Ap10','Ap11','Ap12','Ap13','Ap14'])\n",
    "df3\n",
    "df4 = pd.DataFrame(score_board, columns = ['Home Goal', 'Away Goal'])\n",
    "del df2['Hp12']\n",
    "del df3['Ap12']\n",
    "del df3['Ap13']\n",
    "del df3['Ap14']\n",
    "\n"
   ]
  },
  {
   "cell_type": "code",
   "execution_count": 20,
   "metadata": {},
   "outputs": [],
   "source": [
    "# merging two data frame tgt\n",
    "data = pd.concat([df2,df3,df4], axis=1)\n",
    "mid = data['Away']\n",
    "data.drop(labels=['Away'],axis =1, inplace = True)\n",
    "data.insert(1, 'Away', mid)\n"
   ]
  },
  {
   "cell_type": "code",
   "execution_count": 21,
   "metadata": {},
   "outputs": [],
   "source": [
    "data = data.drop(data.index[249:380])\n"
   ]
  },
  {
   "cell_type": "code",
   "execution_count": 22,
   "metadata": {},
   "outputs": [],
   "source": [
    "def result(i):\n",
    "    if i['Home Goal'] > i['Away Goal']:\n",
    "        results = 0\n",
    "    elif i['Home Goal'] == i['Away Goal']:\n",
    "        results = 1\n",
    "    else:\n",
    "        results = 2\n",
    "    return results\n",
    "        \n",
    "data['result'] = data.apply(result, axis=1)\n",
    "\n",
    "#data.to_csv('league profile.csv')\n",
    "#data.to_csv(r'C:\\Users\\nghen\\OneDrive\\Desktop\\Football project 2\\league profile.csv')"
   ]
  },
  {
   "cell_type": "code",
   "execution_count": 71,
   "metadata": {},
   "outputs": [],
   "source": [
    "data = pd.read_csv(r\"C:\\Users\\nghen\\OneDrive\\Desktop\\Football project 2\\league profile.csv\")\n",
    "del data['Unnamed: 0']"
   ]
  },
  {
   "cell_type": "code",
   "execution_count": 24,
   "metadata": {
    "scrolled": true
   },
   "outputs": [],
   "source": [
    "name_list = []\n",
    "for i in df['long_name']:\n",
    "    name_list.append(i)\n",
    "for i in df['short_name']:\n",
    "    name_list.append(i)\n",
    "    \n",
    "overall_list = []\n",
    "for i in df['overall']:\n",
    "    overall_list.append(i)\n",
    "for i in df['overall']:\n",
    "    overall_list.append(i)\n",
    "\n",
    "list_tuple = list(zip(name_list,overall_list))"
   ]
  },
  {
   "cell_type": "code",
   "execution_count": 25,
   "metadata": {},
   "outputs": [],
   "source": [
    "def score_(special_player_columns):\n",
    "    name_list_score = []\n",
    "    for i in data[special_player_columns]:\n",
    "        for (x,y) in list_tuple:\n",
    "            if i == x:\n",
    "                name_list_score.append(y)\n",
    "                break\n",
    "        else:\n",
    "            name_list_score.append(67)\n",
    "    \n",
    "    return name_list_score\n"
   ]
  },
  {
   "cell_type": "code",
   "execution_count": 26,
   "metadata": {},
   "outputs": [],
   "source": [
    "special_player_columns = list(data.iloc[:,2:24].columns)\n",
    "player_score_list = []\n",
    "for i in special_player_columns:\n",
    "    name_list_score = score_(i)\n",
    "    player_score_list.append(name_list_score)\n",
    "    \n",
    "    \n",
    "\n",
    "\n"
   ]
  },
  {
   "cell_type": "code",
   "execution_count": 27,
   "metadata": {},
   "outputs": [],
   "source": [
    "new_player_score = pd.DataFrame(player_score_list).T\n",
    "home_team_player_score = new_player_score.iloc[:, 0:11].mean(axis=1)\n",
    "home_team_overall = pd.DataFrame(home_team_player_score, columns = ['Home Team Overall'])\n",
    "away_team_player_score = new_player_score.iloc[:, 11:].mean(axis=1)\n",
    "away_team_overall = pd.DataFrame(away_team_player_score, columns = ['Away Team Overall'])\n",
    "data2 = pd.concat([data,home_team_overall,away_team_overall], axis=1)\n"
   ]
  },
  {
   "cell_type": "code",
   "execution_count": 28,
   "metadata": {},
   "outputs": [],
   "source": [
    "data2 = data2.drop(columns = data2.iloc[:,2:24])\n",
    "\n"
   ]
  },
  {
   "cell_type": "code",
   "execution_count": 29,
   "metadata": {},
   "outputs": [],
   "source": [
    "data_odd['HomeCode'] = data_odd['HomeCode'].apply(str)\n",
    "data_odd['AwayCode'] = data_odd['AwayCode'].apply(str)\n",
    "data_odd['Home vs Away'] = data_odd['HomeCode'] + ' vs ' + data_odd['AwayCode']\n",
    "data_odd = data_odd.drop(columns = ['HomeCode' , 'AwayCode'])\n"
   ]
  },
  {
   "cell_type": "code",
   "execution_count": 30,
   "metadata": {},
   "outputs": [],
   "source": [
    "data2['Home'] = data2['Home'].apply(str)\n",
    "data2['Away'] = data2['Away'].apply(str)"
   ]
  },
  {
   "cell_type": "code",
   "execution_count": 31,
   "metadata": {},
   "outputs": [],
   "source": [
    "data2['Home vs Away'] = data2['Home'] + ' vs ' + data2['Away']\n",
    "data2 = data2.drop(columns = ['Home' , 'Away'])\n"
   ]
  },
  {
   "cell_type": "code",
   "execution_count": 32,
   "metadata": {},
   "outputs": [],
   "source": [
    "data_odd_columns = []\n",
    "for i in data_odd.columns:\n",
    "    data_odd_columns.append(i)\n",
    "    \n",
    "data_odd_columns.remove('Home vs Away')\n"
   ]
  },
  {
   "cell_type": "code",
   "execution_count": 33,
   "metadata": {
    "scrolled": true
   },
   "outputs": [],
   "source": [
    "list_alike =[]\n",
    "for i in data2['Home vs Away']:\n",
    "    for x in data_odd['Home vs Away']:\n",
    "        if i == x:\n",
    "            #list_alike.append(data_odd[data_odd['Home vs Away'] == x])\n",
    "            x_list = data_odd[data_odd['Home vs Away'] == x].values.tolist()\n",
    "            #data_odd[data_odd['Home vs Away'] == x].values.tolist()\n",
    "            for y in x_list:\n",
    "                list_alike.append(y)\n",
    "            "
   ]
  },
  {
   "cell_type": "code",
   "execution_count": 34,
   "metadata": {},
   "outputs": [],
   "source": [
    "list_alike_df = pd.DataFrame(list_alike)\n"
   ]
  },
  {
   "cell_type": "code",
   "execution_count": 35,
   "metadata": {},
   "outputs": [],
   "source": [
    "data_final = pd.concat([data2, list_alike_df], axis = 1)"
   ]
  },
  {
   "cell_type": "code",
   "execution_count": 61,
   "metadata": {
    "scrolled": true
   },
   "outputs": [],
   "source": [
    "data_final = data_final.drop([248])"
   ]
  },
  {
   "cell_type": "markdown",
   "metadata": {},
   "source": [
    "## Splitting Data"
   ]
  },
  {
   "cell_type": "code",
   "execution_count": 65,
   "metadata": {},
   "outputs": [],
   "source": [
    "X, Y = data_final.iloc[:, 3:], data_final.iloc[:, 2:3]\n",
    "\n",
    "from sklearn.model_selection import train_test_split\n",
    "\n",
    "X_train, X_test, Y_train, Y_test = train_test_split(X,Y, test_size = 0.2, shuffle = True)\n"
   ]
  },
  {
   "cell_type": "markdown",
   "metadata": {},
   "source": [
    "## Putting into machine learning "
   ]
  },
  {
   "cell_type": "markdown",
   "metadata": {},
   "source": [
    "Model 1: SGD classifier "
   ]
  },
  {
   "cell_type": "code",
   "execution_count": 66,
   "metadata": {},
   "outputs": [
    {
     "name": "stderr",
     "output_type": "stream",
     "text": [
      "C:\\Users\\nghen\\anaconda3\\lib\\site-packages\\sklearn\\utils\\validation.py:72: DataConversionWarning: A column-vector y was passed when a 1d array was expected. Please change the shape of y to (n_samples, ), for example using ravel().\n",
      "  return f(**kwargs)\n"
     ]
    },
    {
     "data": {
      "text/plain": [
       "SGDClassifier(random_state=42)"
      ]
     },
     "execution_count": 66,
     "metadata": {},
     "output_type": "execute_result"
    }
   ],
   "source": [
    "from sklearn.linear_model import SGDClassifier \n",
    "\n",
    "sgd_clf = SGDClassifier(random_state = 42)\n",
    "sgd_clf.fit(X_train, Y_train)"
   ]
  },
  {
   "cell_type": "markdown",
   "metadata": {},
   "source": [
    "Testing the accuracy of the Model 1"
   ]
  },
  {
   "cell_type": "code",
   "execution_count": 70,
   "metadata": {},
   "outputs": [
    {
     "name": "stderr",
     "output_type": "stream",
     "text": [
      "C:\\Users\\nghen\\anaconda3\\lib\\site-packages\\sklearn\\utils\\validation.py:72: DataConversionWarning: A column-vector y was passed when a 1d array was expected. Please change the shape of y to (n_samples, ), for example using ravel().\n",
      "  return f(**kwargs)\n",
      "C:\\Users\\nghen\\anaconda3\\lib\\site-packages\\sklearn\\utils\\validation.py:72: DataConversionWarning: A column-vector y was passed when a 1d array was expected. Please change the shape of y to (n_samples, ), for example using ravel().\n",
      "  return f(**kwargs)\n",
      "C:\\Users\\nghen\\anaconda3\\lib\\site-packages\\sklearn\\utils\\validation.py:72: DataConversionWarning: A column-vector y was passed when a 1d array was expected. Please change the shape of y to (n_samples, ), for example using ravel().\n",
      "  return f(**kwargs)\n",
      "C:\\Users\\nghen\\anaconda3\\lib\\site-packages\\sklearn\\utils\\validation.py:72: DataConversionWarning: A column-vector y was passed when a 1d array was expected. Please change the shape of y to (n_samples, ), for example using ravel().\n",
      "  return f(**kwargs)\n",
      "C:\\Users\\nghen\\anaconda3\\lib\\site-packages\\sklearn\\utils\\validation.py:72: DataConversionWarning: A column-vector y was passed when a 1d array was expected. Please change the shape of y to (n_samples, ), for example using ravel().\n",
      "  return f(**kwargs)\n"
     ]
    },
    {
     "data": {
      "text/plain": [
       "0.42897435897435904"
      ]
     },
     "execution_count": 70,
     "metadata": {},
     "output_type": "execute_result"
    }
   ],
   "source": [
    "from sklearn.model_selection import cross_val_score\n",
    "\n",
    "cross_val_score(sgd_clf, X_train, Y_train, cv=5, scoring = 'accuracy').mean()"
   ]
  },
  {
   "cell_type": "markdown",
   "metadata": {},
   "source": [
    "Model 2: Random Forest "
   ]
  },
  {
   "cell_type": "code",
   "execution_count": 69,
   "metadata": {},
   "outputs": [
    {
     "name": "stderr",
     "output_type": "stream",
     "text": [
      "C:\\Users\\nghen\\anaconda3\\lib\\site-packages\\sklearn\\model_selection\\_validation.py:531: DataConversionWarning: A column-vector y was passed when a 1d array was expected. Please change the shape of y to (n_samples,), for example using ravel().\n",
      "  estimator.fit(X_train, y_train, **fit_params)\n",
      "C:\\Users\\nghen\\anaconda3\\lib\\site-packages\\sklearn\\model_selection\\_validation.py:531: DataConversionWarning: A column-vector y was passed when a 1d array was expected. Please change the shape of y to (n_samples,), for example using ravel().\n",
      "  estimator.fit(X_train, y_train, **fit_params)\n",
      "C:\\Users\\nghen\\anaconda3\\lib\\site-packages\\sklearn\\model_selection\\_validation.py:531: DataConversionWarning: A column-vector y was passed when a 1d array was expected. Please change the shape of y to (n_samples,), for example using ravel().\n",
      "  estimator.fit(X_train, y_train, **fit_params)\n",
      "C:\\Users\\nghen\\anaconda3\\lib\\site-packages\\sklearn\\model_selection\\_validation.py:531: DataConversionWarning: A column-vector y was passed when a 1d array was expected. Please change the shape of y to (n_samples,), for example using ravel().\n",
      "  estimator.fit(X_train, y_train, **fit_params)\n",
      "C:\\Users\\nghen\\anaconda3\\lib\\site-packages\\sklearn\\model_selection\\_validation.py:531: DataConversionWarning: A column-vector y was passed when a 1d array was expected. Please change the shape of y to (n_samples,), for example using ravel().\n",
      "  estimator.fit(X_train, y_train, **fit_params)\n"
     ]
    },
    {
     "data": {
      "text/plain": [
       "0.5352564102564102"
      ]
     },
     "execution_count": 69,
     "metadata": {},
     "output_type": "execute_result"
    }
   ],
   "source": [
    "from sklearn.ensemble import RandomForestClassifier\n",
    "from sklearn.model_selection import cross_val_predict \n",
    "\n",
    "forest_clf = RandomForestClassifier(random_state = 42)\n",
    "cross_val_score(forest_clf, X_train, Y_train, cv = 5, scoring= 'accuracy').mean()"
   ]
  },
  {
   "cell_type": "code",
   "execution_count": null,
   "metadata": {},
   "outputs": [],
   "source": []
  }
 ],
 "metadata": {
  "kernelspec": {
   "display_name": "Python 3",
   "language": "python",
   "name": "python3"
  },
  "language_info": {
   "codemirror_mode": {
    "name": "ipython",
    "version": 3
   },
   "file_extension": ".py",
   "mimetype": "text/x-python",
   "name": "python",
   "nbconvert_exporter": "python",
   "pygments_lexer": "ipython3",
   "version": "3.8.5"
  }
 },
 "nbformat": 4,
 "nbformat_minor": 4
}
